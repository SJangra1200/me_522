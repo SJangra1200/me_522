{
 "cells": [
  {
   "cell_type": "code",
   "execution_count": null,
   "id": "30f13258",
   "metadata": {},
   "outputs": [],
   "source": [
    "# Libraries needed for today's session to be installed\n",
    "!pip install numpy"
   ]
  },
  {
   "cell_type": "code",
   "execution_count": null,
   "id": "826fed7e",
   "metadata": {},
   "outputs": [],
   "source": [
    "import mysqrt"
   ]
  },
  {
   "cell_type": "code",
   "execution_count": null,
   "id": "45a01949",
   "metadata": {},
   "outputs": [],
   "source": [
    "pwd"
   ]
  },
  {
   "cell_type": "code",
   "execution_count": null,
   "id": "0ec0ae7e",
   "metadata": {},
   "outputs": [],
   "source": [
    "import sys\n",
    "print(sys.path)"
   ]
  },
  {
   "cell_type": "code",
   "execution_count": null,
   "id": "8fc9674b",
   "metadata": {},
   "outputs": [],
   "source": [
    "sys.path.append('/home/hpsc/github/hpsc_2024/codes/python/mysqrt')"
   ]
  },
  {
   "cell_type": "code",
   "execution_count": null,
   "id": "09bd6ee3",
   "metadata": {},
   "outputs": [],
   "source": [
    "timeit mysqrt.sqrt2(2.)"
   ]
  },
  {
   "cell_type": "code",
   "execution_count": null,
   "id": "80046b96",
   "metadata": {},
   "outputs": [],
   "source": [
    "from numpy import *"
   ]
  },
  {
   "cell_type": "code",
   "execution_count": null,
   "id": "83148c48",
   "metadata": {},
   "outputs": [],
   "source": [
    "timeit sqrt(2.)"
   ]
  },
  {
   "cell_type": "code",
   "execution_count": null,
   "id": "06d2917e",
   "metadata": {},
   "outputs": [],
   "source": [
    "x=linspace(0,1000,1001)"
   ]
  },
  {
   "cell_type": "code",
   "execution_count": null,
   "id": "7ebe479a",
   "metadata": {},
   "outputs": [],
   "source": [
    "timeit y=sqrt(x)"
   ]
  },
  {
   "cell_type": "code",
   "execution_count": null,
   "id": "8b821f27",
   "metadata": {},
   "outputs": [],
   "source": [
    "size(y)"
   ]
  },
  {
   "cell_type": "code",
   "execution_count": null,
   "id": "2bb9f5ca",
   "metadata": {},
   "outputs": [],
   "source": [
    "%%timeit\n",
    "for i in range(1001):\n",
    "    mysqrt.sqrt2(i)"
   ]
  },
  {
   "cell_type": "code",
   "execution_count": null,
   "id": "e2b1c112",
   "metadata": {},
   "outputs": [],
   "source": [
    "tic=time.timeit()\n",
    "# some statements 1\n",
    "toc=time.timeit()\n",
    "time_taken_1=toc-tic\n",
    "\n",
    "\n",
    "# some statements 2\n",
    "\n",
    "# some statements 3"
   ]
  }
 ],
 "metadata": {
  "kernelspec": {
   "display_name": "Python 3 (ipykernel)",
   "language": "python",
   "name": "python3"
  },
  "language_info": {
   "codemirror_mode": {
    "name": "ipython",
    "version": 3
   },
   "file_extension": ".py",
   "mimetype": "text/x-python",
   "name": "python",
   "nbconvert_exporter": "python",
   "pygments_lexer": "ipython3",
   "version": "3.10.12"
  }
 },
 "nbformat": 4,
 "nbformat_minor": 5
}
