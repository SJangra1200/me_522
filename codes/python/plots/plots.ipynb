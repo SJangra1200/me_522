{
 "cells": [
  {
   "cell_type": "markdown",
   "id": "5bad6d2a",
   "metadata": {},
   "source": [
    "# Lecture 5 - Plots "
   ]
  },
  {
   "cell_type": "markdown",
   "id": "85290879",
   "metadata": {},
   "source": [
    "1. Item 1\n",
    "1. Item 2"
   ]
  },
  {
   "cell_type": "code",
   "execution_count": null,
   "id": "c4a49313",
   "metadata": {},
   "outputs": [],
   "source": [
    "%%html \n",
    "<iframe width=\"560\" height=\"315\" src=\"https://www.youtube.com/embed/sBK5AqTbSuM?si=YmJhf6382jn06NlF\" title=\"YouTube video player\" frameborder=\"0\" allow=\"accelerometer; autoplay; clipboard-write; encrypted-media; gyroscope; picture-in-picture; web-share\" allowfullscreen></iframe>"
   ]
  },
  {
   "cell_type": "code",
   "execution_count": null,
   "id": "0a631ac3",
   "metadata": {},
   "outputs": [],
   "source": [
    "%%html\n",
    "<iframe src=\"https://www.google.com/maps/embed?pb=!1m18!1m12!1m3!1d19359.18501868882!2d86.9146753711648!3d27.988138714531964!2m3!1f0!2f0!3f0!3m2!1i1024!2i768!4f13.1!3m3!1m2!1s0x39e854a215bd9ebd%3A0x576dcf806abbab2!2sMt%20Everest!5e1!3m2!1sen!2sin!4v1706882920460!5m2!1sen!2sin\" width=\"600\" height=\"450\" style=\"border:0;\" allowfullscreen=\"\" loading=\"lazy\" referrerpolicy=\"no-referrer-when-downgrade\"></iframe>"
   ]
  },
  {
   "cell_type": "code",
   "execution_count": null,
   "id": "a23090ac",
   "metadata": {},
   "outputs": [],
   "source": [
    "import matplotlib.pyplot as plt\n",
    "import numpy as np\n",
    "\n",
    "# Create some fake data.\n",
    "x1 = np.linspace(0.0, 5.0)\n",
    "y1 = np.cos(2 * np.pi * x1) * np.exp(-x1)\n",
    "x2 = np.linspace(0.0, 2.0)\n",
    "y2 = np.cos(2 * np.pi * x2)\n",
    "\n",
    "fig, (ax1, ax2) = plt.subplots(2, 1)\n",
    "fig.suptitle('A tale of 2 subplots')\n",
    "\n",
    "ax1.plot(x1, y1, 'r--')\n",
    "ax1.set_ylabel('Damped oscillation')\n",
    "\n",
    "ax2.plot(x2, y2, '.-')\n",
    "ax2.set_xlabel('time (s)')\n",
    "ax2.set_ylabel('Undamped')\n",
    "\n",
    "plt.show()"
   ]
  },
  {
   "cell_type": "code",
   "execution_count": null,
   "id": "4d2ed4b1",
   "metadata": {},
   "outputs": [],
   "source": [
    "\n"
   ]
  },
  {
   "cell_type": "code",
   "execution_count": null,
   "id": "79a23c02",
   "metadata": {},
   "outputs": [],
   "source": [
    "\n",
    "x1 = np.linspace(0.0, 5.0,100)\n",
    "x1"
   ]
  },
  {
   "cell_type": "code",
   "execution_count": null,
   "id": "8fb1a6fb",
   "metadata": {},
   "outputs": [],
   "source": [
    "len(x1)"
   ]
  },
  {
   "cell_type": "code",
   "execution_count": null,
   "id": "f9f59e75",
   "metadata": {},
   "outputs": [],
   "source": []
  }
 ],
 "metadata": {
  "kernelspec": {
   "display_name": "Python 3 (ipykernel)",
   "language": "python",
   "name": "python3"
  },
  "language_info": {
   "codemirror_mode": {
    "name": "ipython",
    "version": 3
   },
   "file_extension": ".py",
   "mimetype": "text/x-python",
   "name": "python",
   "nbconvert_exporter": "python",
   "pygments_lexer": "ipython3",
   "version": "3.10.12"
  }
 },
 "nbformat": 4,
 "nbformat_minor": 5
}
